{
 "cells": [
  {
   "cell_type": "markdown",
   "id": "ff5025bc",
   "metadata": {},
   "source": [
    "### Урок 3. Видеоурок “Введение в аналитическую геометрию. Графики на плоскости”"
   ]
  },
  {
   "cell_type": "code",
   "execution_count": 1,
   "id": "6a8d7bbd",
   "metadata": {},
   "outputs": [],
   "source": [
    "%matplotlib inline\n",
    "import numpy as np\n",
    "import matplotlib.pyplot as plt\n",
    "import math"
   ]
  },
  {
   "cell_type": "markdown",
   "id": "3700f86d",
   "metadata": {},
   "source": [
    "#### 1. Задание\n",
    "б) Напишите код на Python, реализующий расчет длины вектора, заданного его координатами."
   ]
  },
  {
   "cell_type": "code",
   "execution_count": 2,
   "id": "1541a480",
   "metadata": {},
   "outputs": [],
   "source": [
    "def vector_length(a):\n",
    "    vector = 0\n",
    "    for i in a:\n",
    "        vector += i**2\n",
    "    return(f'Длина вектора = {math.sqrt(vector)}')"
   ]
  },
  {
   "cell_type": "code",
   "execution_count": 3,
   "id": "ea7ca7dd",
   "metadata": {},
   "outputs": [],
   "source": [
    "a = [3, 7, 10, 0, 15]"
   ]
  },
  {
   "cell_type": "code",
   "execution_count": 4,
   "id": "bc6c034a",
   "metadata": {},
   "outputs": [
    {
     "data": {
      "text/plain": [
       "'Длина вектора = 19.570385790780925'"
      ]
     },
     "execution_count": 4,
     "metadata": {},
     "output_type": "execute_result"
    }
   ],
   "source": [
    "vector_length(a)"
   ]
  },
  {
   "cell_type": "markdown",
   "id": "dfd3e088",
   "metadata": {},
   "source": [
    "#### 3. Задание\n",
    "Напишите код на Python, реализующий построение графиков:\n",
    "- окружности,\t\n",
    "- эллипса,\n",
    "- гиперболы."
   ]
  },
  {
   "cell_type": "code",
   "execution_count": 5,
   "id": "99303fb2",
   "metadata": {},
   "outputs": [],
   "source": [
    "def circle(x, y):\n",
    "    pass"
   ]
  },
  {
   "cell_type": "code",
   "execution_count": null,
   "id": "25876a2a",
   "metadata": {},
   "outputs": [],
   "source": []
  },
  {
   "cell_type": "code",
   "execution_count": 6,
   "id": "8bef57b2",
   "metadata": {},
   "outputs": [],
   "source": [
    "def ellipse(x, y):\n",
    "    pass"
   ]
  },
  {
   "cell_type": "code",
   "execution_count": 7,
   "id": "a0d78149",
   "metadata": {},
   "outputs": [],
   "source": [
    "def hyperbole(x, y):\n",
    "    pass"
   ]
  },
  {
   "cell_type": "markdown",
   "id": "57184212",
   "metadata": {},
   "source": [
    "#### 5. Задание\n",
    "- Нарисуйте трехмерный график двух параллельных плоскостей.\n",
    "- Нарисуйте трехмерный график двух любых поверхностей второго порядка."
   ]
  },
  {
   "cell_type": "code",
   "execution_count": null,
   "id": "5c99c7d9",
   "metadata": {},
   "outputs": [],
   "source": []
  }
 ],
 "metadata": {
  "kernelspec": {
   "display_name": "Python 3",
   "language": "python",
   "name": "python3"
  },
  "language_info": {
   "codemirror_mode": {
    "name": "ipython",
    "version": 3
   },
   "file_extension": ".py",
   "mimetype": "text/x-python",
   "name": "python",
   "nbconvert_exporter": "python",
   "pygments_lexer": "ipython3",
   "version": "3.9.0"
  }
 },
 "nbformat": 4,
 "nbformat_minor": 5
}
