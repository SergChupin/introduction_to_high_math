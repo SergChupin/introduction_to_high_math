{
 "cells": [
  {
   "cell_type": "markdown",
   "id": "76187690",
   "metadata": {},
   "source": [
    "### Тема “Элементы теории вероятностей”"
   ]
  },
  {
   "cell_type": "markdown",
   "id": "30840822",
   "metadata": {},
   "source": [
    "#### Задание 1. \n",
    "Напишите код, моделирующий выпадение поля в рулетке (с учетом поля зеро)."
   ]
  },
  {
   "cell_type": "code",
   "execution_count": 1,
   "id": "b997cd8d",
   "metadata": {},
   "outputs": [],
   "source": [
    "%matplotlib inline\n",
    "import numpy as np\n",
    "import matplotlib.pyplot as plt\n",
    "import itertools\n",
    "import math"
   ]
  },
  {
   "cell_type": "code",
   "execution_count": 2,
   "id": "a5d33e8c",
   "metadata": {},
   "outputs": [
    {
     "name": "stdout",
     "output_type": "stream",
     "text": [
      "Выпало число 17\n",
      "Выпало число 18\n",
      "Выпало число 19\n",
      "Выпало число 21\n",
      "Выпало число 34\n",
      "Выпало число 14\n",
      "Выпало число 20\n",
      "Выпало число 30\n",
      "Выпало число 28\n",
      "Выпало число 21\n"
     ]
    }
   ],
   "source": [
    "for i in range(0, 10):\n",
    "    x = np.random.randint(0, 37)  # до 37, т.к. 37 не входит в диапазон\n",
    "    if x == 0:\n",
    "        print(\"Зеро\")\n",
    "    else:\n",
    "        print(f\"Выпало число {x}\")"
   ]
  },
  {
   "cell_type": "markdown",
   "id": "c5c98723",
   "metadata": {},
   "source": [
    "#### Задание 2. \n",
    "1) Напишите код, проверяющий любую из теорем сложения или умножения вероятности на примере рулетки или подбрасывания монетки.\n",
    "\n",
    "2) Сгенерируйте десять выборок случайных чисел х0, …, х9.\n",
    "и постройте гистограмму распределения случайной суммы  +х0+ …+ х9."
   ]
  },
  {
   "cell_type": "code",
   "execution_count": 3,
   "id": "fd11b246",
   "metadata": {},
   "outputs": [
    {
     "name": "stdout",
     "output_type": "stream",
     "text": [
      "Сумма вероятностей для полной группы несовместных событий = 1.0\n"
     ]
    }
   ],
   "source": [
    "# 1)\n",
    "\n",
    "# Вероятность выпадения любого числа или зеро на рулетке = 1/37\n",
    "# События являются несовместными, и сложение вероятностей полной группы несовместных событий будет равно 1.\n",
    "p = 0\n",
    "n = 37  # общее кол-во возможных исходов\n",
    "for i in range(37):\n",
    "    p += 1\n",
    "    p_ = p / n\n",
    "    \n",
    "print(f'Сумма вероятностей для полной группы несовместных событий = {p_}')    "
   ]
  },
  {
   "cell_type": "code",
   "execution_count": 4,
   "id": "efcd6f54",
   "metadata": {},
   "outputs": [],
   "source": [
    "# 2)\n",
    "\n",
    "x0 = np.random.rand(1000)\n",
    "x1 = np.random.rand(1000)\n",
    "x2 = np.random.rand(1000)\n",
    "x3 = np.random.rand(1000)\n",
    "x4 = np.random.rand(1000)\n",
    "x5 = np.random.rand(1000)\n",
    "x6 = np.random.rand(1000)\n",
    "x7 = np.random.rand(1000)\n",
    "x8 = np.random.rand(1000)\n",
    "x9 = np.random.rand(1000)\n",
    "x_ = x0 + x1 + x2 + x3 + x4 + x5 + x6 + x7 + x8 + x9"
   ]
  },
  {
   "cell_type": "code",
   "execution_count": 5,
   "id": "14ed7334",
   "metadata": {},
   "outputs": [
    {
     "data": {
      "text/plain": [
       "Text(0.5, 1.0, 'Histogram')"
      ]
     },
     "execution_count": 5,
     "metadata": {},
     "output_type": "execute_result"
    },
    {
     "data": {
      "image/png": "[encoded data removed]",
      "text/plain": [
       "<Figure size 432x288 with 1 Axes>"
      ]
     },
     "metadata": {
      "needs_background": "light"
     },
     "output_type": "display_data"
    }
   ],
   "source": [
    "num_bins = 25\n",
    "plt.hist(x_, num_bins)\n",
    "plt.xlabel('x')\n",
    "plt.ylabel('Probability')\n",
    "plt.title('Histogram')"
   ]
  },
  {
   "cell_type": "markdown",
   "id": "2c8fe2ac",
   "metadata": {},
   "source": [
    "#### Задание 3.\n",
    "1) Дополните код Монте-Карло последовательности независимых испытаний расчетом соответствующих вероятностей (через биномиальное распределение) \n",
    "и сравните результаты.\n",
    "\n",
    "2) Повторите расчеты биномиальных коэффициентов и вероятностей k успехов в последовательности из n независимых испытаний, взяв другие значения n и k.\n"
   ]
  },
  {
   "cell_type": "code",
   "execution_count": 6,
   "id": "38c2ba38",
   "metadata": {},
   "outputs": [
    {
     "name": "stdout",
     "output_type": "stream",
     "text": [
      "3795 10000 0.3795\n"
     ]
    }
   ],
   "source": [
    "# 1)\n",
    "\n",
    "k, n = 0, 10000\n",
    "a = np.random.randint(0, 2, n)\n",
    "b = np.random.randint(0, 2, n)\n",
    "c = np.random.randint(0, 2, n)\n",
    "d = np.random.randint(0, 2, n)\n",
    "x = a + b + c + d\n",
    "for i in range(0, n):\n",
    "    if x[i] == 2:\n",
    "        k += 1\n",
    "    \n",
    "print(k, n, k/n)"
   ]
  },
  {
   "cell_type": "code",
   "execution_count": 7,
   "id": "f01f6beb",
   "metadata": {},
   "outputs": [
    {
     "name": "stdout",
     "output_type": "stream",
     "text": [
      "Вероятность выпадения двух успехов на четырёх испытаниях по формуле Бернулли = 0.375\n"
     ]
    }
   ],
   "source": [
    "# Биномиальное распределение\n",
    "\n",
    "k = 2\n",
    "n = 4\n",
    "C4_2 = math.factorial(4) / (math.factorial(2) * math.factorial(n - k))\n",
    "p2 = C4_2 / 2 ** n\n",
    "print(f'Вероятность выпадения двух успехов на четырёх испытаниях по формуле Бернулли = {p2}')"
   ]
  },
  {
   "cell_type": "code",
   "execution_count": 8,
   "id": "448d49b9",
   "metadata": {},
   "outputs": [
    {
     "name": "stdout",
     "output_type": "stream",
     "text": [
      "2460 10000 0.246\n"
     ]
    }
   ],
   "source": [
    "# 2)\n",
    "\n",
    "# 3 успеха при 4-х испытаниях -- вероятность будет аналогична исходу в 1 успех при 4-х испытаниях\n",
    "\n",
    "k, n = 0, 10000\n",
    "a = np.random.randint(0, 2, n)\n",
    "b = np.random.randint(0, 2, n)\n",
    "c = np.random.randint(0, 2, n)\n",
    "d = np.random.randint(0, 2, n)\n",
    "x = a + b + c + d\n",
    "for i in range(0, n):\n",
    "    if x[i] == 3:\n",
    "        k += 1\n",
    "    \n",
    "print(k, n, k/n)"
   ]
  },
  {
   "cell_type": "code",
   "execution_count": 9,
   "id": "5c23f91c",
   "metadata": {},
   "outputs": [
    {
     "name": "stdout",
     "output_type": "stream",
     "text": [
      "Вероятность выпадения трёх успехов на четырёх испытаниях по формуле Бернулли = 0.25\n"
     ]
    }
   ],
   "source": [
    "k = 3\n",
    "n = 4\n",
    "p = 0.5\n",
    "q = 1 - p\n",
    "C4_3 = math.factorial(n) / (math.factorial(k) * math.factorial(n - k))\n",
    "p3 = C4_3 * (p ** k) * (q ** (n - k))\n",
    "print(f'Вероятность выпадения трёх успехов на четырёх испытаниях по формуле Бернулли = {p3}')"
   ]
  },
  {
   "cell_type": "code",
   "execution_count": 10,
   "id": "a1222364",
   "metadata": {},
   "outputs": [
    {
     "name": "stdout",
     "output_type": "stream",
     "text": [
      "Вероятность выпадения одного успеха на четырёх испытаниях по формуле Бернулли = 0.25\n"
     ]
    }
   ],
   "source": [
    "k = 1\n",
    "n = 4\n",
    "p = 0.5\n",
    "q = 1 - p\n",
    "C4_1 = math.factorial(n) / (math.factorial(k) * math.factorial(n - k))\n",
    "p1 = C4_1 * (p ** k) * (q ** (n - k))\n",
    "print(f'Вероятность выпадения одного успеха на четырёх испытаниях по формуле Бернулли = {p1}')"
   ]
  },
  {
   "cell_type": "code",
   "execution_count": 11,
   "id": "2d379f64",
   "metadata": {},
   "outputs": [
    {
     "name": "stdout",
     "output_type": "stream",
     "text": [
      "606 10000 0.0606\n"
     ]
    }
   ],
   "source": [
    "# 0 успехов при 4-х испытаниях -- вероятность будет аналогична исходу в 4 успеха при 4-х испытаниях\n",
    "\n",
    "k, n = 0, 10000\n",
    "a = np.random.randint(0, 2, n)\n",
    "b = np.random.randint(0, 2, n)\n",
    "c = np.random.randint(0, 2, n)\n",
    "d = np.random.randint(0, 2, n)\n",
    "x = a + b + c + d\n",
    "for i in range(0, n):\n",
    "    if x[i] == 0:\n",
    "        k += 1\n",
    "    \n",
    "print(k, n, k/n)"
   ]
  },
  {
   "cell_type": "code",
   "execution_count": 12,
   "id": "e0d29ecb",
   "metadata": {},
   "outputs": [
    {
     "name": "stdout",
     "output_type": "stream",
     "text": [
      "Вероятность невыпадения ни одного успеха на четырёх испытаниях по формуле Бернулли = 0.0625\n"
     ]
    }
   ],
   "source": [
    "k = 0\n",
    "n = 4\n",
    "p = 0.5\n",
    "q = 1 - p\n",
    "C4_0 = math.factorial(n) / (math.factorial(k) * math.factorial(n - k))\n",
    "p0 = C4_0 * (p ** k) * (q ** (n - k))\n",
    "print(f'Вероятность невыпадения ни одного успеха на четырёх испытаниях по формуле Бернулли = {p0}')"
   ]
  },
  {
   "cell_type": "code",
   "execution_count": 13,
   "id": "ac96b916",
   "metadata": {},
   "outputs": [
    {
     "name": "stdout",
     "output_type": "stream",
     "text": [
      "Вероятность выпадения четырёх успехов на четырёх испытаниях по формуле Бернулли = 0.0625\n"
     ]
    }
   ],
   "source": [
    "k = 4\n",
    "n = 4\n",
    "p = 0.5\n",
    "q = 1 - p\n",
    "C4_4 = math.factorial(n) / (math.factorial(k) * math.factorial(n - k))\n",
    "p4 = C4_4 * (p ** k) * (q ** (n - k))\n",
    "print(f'Вероятность выпадения четырёх успехов на четырёх испытаниях по формуле Бернулли = {p4}')"
   ]
  },
  {
   "cell_type": "code",
   "execution_count": 14,
   "id": "7966a510",
   "metadata": {},
   "outputs": [
    {
     "data": {
      "text/plain": [
       "1.0"
      ]
     },
     "execution_count": 14,
     "metadata": {},
     "output_type": "execute_result"
    }
   ],
   "source": [
    "# Проверка\n",
    "\n",
    "p_total = p0 + p1 + p2 + p3 + p4\n",
    "p_total"
   ]
  },
  {
   "cell_type": "markdown",
   "id": "360503bf",
   "metadata": {},
   "source": [
    "#### Задание 4. \n",
    "(не обязательно, но желательно) Из урока по комбинаторике повторите расчеты, сгенерировав возможные варианты перестановок для других значений n и k"
   ]
  },
  {
   "cell_type": "code",
   "execution_count": 15,
   "id": "ebea97c2",
   "metadata": {},
   "outputs": [
    {
     "name": "stdout",
     "output_type": "stream",
     "text": [
      "12345\n",
      "12354\n",
      "12435\n",
      "12453\n",
      "12534\n",
      "12543\n",
      "13245\n",
      "13254\n",
      "13425\n",
      "13452\n",
      "13524\n",
      "13542\n",
      "14235\n",
      "14253\n",
      "14325\n",
      "14352\n",
      "14523\n",
      "14532\n",
      "15234\n",
      "15243\n",
      "15324\n",
      "15342\n",
      "15423\n",
      "15432\n",
      "21345\n",
      "21354\n",
      "21435\n",
      "21453\n",
      "21534\n",
      "21543\n",
      "23145\n",
      "23154\n",
      "23415\n",
      "23451\n",
      "23514\n",
      "23541\n",
      "24135\n",
      "24153\n",
      "24315\n",
      "24351\n",
      "24513\n",
      "24531\n",
      "25134\n",
      "25143\n",
      "25314\n",
      "25341\n",
      "25413\n",
      "25431\n",
      "31245\n",
      "31254\n",
      "31425\n",
      "31452\n",
      "31524\n",
      "31542\n",
      "32145\n",
      "32154\n",
      "32415\n",
      "32451\n",
      "32514\n",
      "32541\n",
      "34125\n",
      "34152\n",
      "34215\n",
      "34251\n",
      "34512\n",
      "34521\n",
      "35124\n",
      "35142\n",
      "35214\n",
      "35241\n",
      "35412\n",
      "35421\n",
      "41235\n",
      "41253\n",
      "41325\n",
      "41352\n",
      "41523\n",
      "41532\n",
      "42135\n",
      "42153\n",
      "42315\n",
      "42351\n",
      "42513\n",
      "42531\n",
      "43125\n",
      "43152\n",
      "43215\n",
      "43251\n",
      "43512\n",
      "43521\n",
      "45123\n",
      "45132\n",
      "45213\n",
      "45231\n",
      "45312\n",
      "45321\n",
      "51234\n",
      "51243\n",
      "51324\n",
      "51342\n",
      "51423\n",
      "51432\n",
      "52134\n",
      "52143\n",
      "52314\n",
      "52341\n",
      "52413\n",
      "52431\n",
      "53124\n",
      "53142\n",
      "53214\n",
      "53241\n",
      "53412\n",
      "53421\n",
      "54123\n",
      "54132\n",
      "54213\n",
      "54231\n",
      "54312\n",
      "54321\n",
      "Итого 120 комбинаций\n"
     ]
    }
   ],
   "source": [
    "count = 0\n",
    "for p in itertools.permutations('12345', 5):\n",
    "    count += 1\n",
    "    print(''.join(str(x) for x in p))\n",
    "print(f'Итого {count} комбинаций')"
   ]
  },
  {
   "cell_type": "code",
   "execution_count": 16,
   "id": "7b6b3102",
   "metadata": {},
   "outputs": [
    {
     "name": "stdout",
     "output_type": "stream",
     "text": [
      "123\n",
      "124\n",
      "125\n",
      "132\n",
      "134\n",
      "135\n",
      "142\n",
      "143\n",
      "145\n",
      "152\n",
      "153\n",
      "154\n",
      "213\n",
      "214\n",
      "215\n",
      "231\n",
      "234\n",
      "235\n",
      "241\n",
      "243\n",
      "245\n",
      "251\n",
      "253\n",
      "254\n",
      "312\n",
      "314\n",
      "315\n",
      "321\n",
      "324\n",
      "325\n",
      "341\n",
      "342\n",
      "345\n",
      "351\n",
      "352\n",
      "354\n",
      "412\n",
      "413\n",
      "415\n",
      "421\n",
      "423\n",
      "425\n",
      "431\n",
      "432\n",
      "435\n",
      "451\n",
      "452\n",
      "453\n",
      "512\n",
      "513\n",
      "514\n",
      "521\n",
      "523\n",
      "524\n",
      "531\n",
      "532\n",
      "534\n",
      "541\n",
      "542\n",
      "543\n",
      "Итого 60 размещений\n"
     ]
    }
   ],
   "source": [
    "count = 0\n",
    "for p in itertools.permutations('12345', 3):\n",
    "    count += 1\n",
    "    print(''.join(str(x) for x in p))\n",
    "print(f'Итого {count} размещений')"
   ]
  },
  {
   "cell_type": "code",
   "execution_count": 17,
   "id": "4167774e",
   "metadata": {},
   "outputs": [
    {
     "name": "stdout",
     "output_type": "stream",
     "text": [
      "123\n",
      "124\n",
      "125\n",
      "134\n",
      "135\n",
      "145\n",
      "234\n",
      "235\n",
      "245\n",
      "345\n",
      "Итого 10 комбинаций\n"
     ]
    }
   ],
   "source": [
    "count = 0\n",
    "for p in itertools.combinations('12345', 3):\n",
    "    count += 1\n",
    "    print(''.join(str(x) for x in p))\n",
    "print(f'Итого {count} комбинаций')"
   ]
  },
  {
   "cell_type": "code",
   "execution_count": null,
   "id": "85aa7bb3",
   "metadata": {},
   "outputs": [],
   "source": []
  }
 ],
 "metadata": {
  "kernelspec": {
   "display_name": "Python 3",
   "language": "python",
   "name": "python3"
  },
  "language_info": {
   "codemirror_mode": {
    "name": "ipython",
    "version": 3
   },
   "file_extension": ".py",
   "mimetype": "text/x-python",
   "name": "python",
   "nbconvert_exporter": "python",
   "pygments_lexer": "ipython3",
   "version": "3.9.0"
  }
 },
 "nbformat": 4,
 "nbformat_minor": 5
}
