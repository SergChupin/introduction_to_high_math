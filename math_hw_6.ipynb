{
 "cells": [
  {
   "cell_type": "markdown",
   "id": "fe1a3edd",
   "metadata": {},
   "source": [
    "### Урок 6"
   ]
  },
  {
   "cell_type": "markdown",
   "id": "df4689b2",
   "metadata": {},
   "source": [
    "### Тема “Элементы теории вероятностей”"
   ]
  },
  {
   "cell_type": "markdown",
   "id": "98b65f68",
   "metadata": {},
   "source": [
    "#### Задание 1 (теорема сложения)\n",
    "Найти вероятность выпадения 2 или 5 очков при подбрасывании игральной кости, на гранях которой имеются соответственно 1,2,3,4,5 и 6 очков."
   ]
  },
  {
   "cell_type": "code",
   "execution_count": 1,
   "id": "53d23329",
   "metadata": {},
   "outputs": [
    {
     "data": {
      "text/plain": [
       "0.3333333333333333"
      ]
     },
     "execution_count": 1,
     "metadata": {},
     "output_type": "execute_result"
    }
   ],
   "source": [
    "# вероятность выпадения 2 или 5 = 1/6\n",
    "pA = pB = 1 / 6\n",
    "pAB = pA + pB\n",
    "pAB  # 1/3"
   ]
  },
  {
   "cell_type": "markdown",
   "id": "45825c68",
   "metadata": {},
   "source": [
    "#### Задание 2 (теорема умножения)\n",
    "Найти вероятность того, что при двух подбрасываниях той же самой игральной кости сначала выпадет 2, а затем 5."
   ]
  },
  {
   "cell_type": "code",
   "execution_count": 2,
   "id": "3a259c15",
   "metadata": {},
   "outputs": [
    {
     "data": {
      "text/plain": [
       "0.027777777777777776"
      ]
     },
     "execution_count": 2,
     "metadata": {},
     "output_type": "execute_result"
    }
   ],
   "source": [
    "pAB = pA * pB  # сначала 2, потом 5\n",
    "pAB  # 1/36"
   ]
  },
  {
   "cell_type": "markdown",
   "id": "afe16f48",
   "metadata": {},
   "source": [
    "#### Задание 3\n",
    "Найти вероятность выпадения 2 и 5 очков при двух подбрасываниях той же самой игральной игральной кости. Обратите внимание на порядок выпадения костей!"
   ]
  },
  {
   "cell_type": "code",
   "execution_count": 3,
   "id": "e1a8d45c",
   "metadata": {},
   "outputs": [
    {
     "data": {
      "text/plain": [
       "0.05555555555555555"
      ]
     },
     "execution_count": 3,
     "metadata": {},
     "output_type": "execute_result"
    }
   ],
   "source": [
    "# по логике это в 2 раза больше, чем в задании 2, т.к. нас устроит как сначала 2, затем 5, так и сначала 5, а затем 2.\n",
    "pBA = pB * pA  # сначала 5, потом 2\n",
    "pAB + pBA  # 1/18"
   ]
  },
  {
   "cell_type": "markdown",
   "id": "a13f820f",
   "metadata": {},
   "source": [
    "#### Задание 4  (Геометрическая вероятность + интервалы)\n",
    "На отрезке AB длиной 20 см наугад отметили точку C. Какова вероятность, что она находится на расстоянии не более 9 см от точки А и не более 15 см от точки В?"
   ]
  },
  {
   "cell_type": "code",
   "execution_count": 4,
   "id": "234e865c",
   "metadata": {},
   "outputs": [
    {
     "data": {
      "text/plain": [
       "(9, 5)"
      ]
     },
     "execution_count": 4,
     "metadata": {},
     "output_type": "execute_result"
    }
   ],
   "source": [
    "# найдём точки интересующего нас интервала\n",
    "x1 = 9  # 9 см от А\n",
    "x2 = 20 - 15  # 15 см от В\n",
    "x1, x2"
   ]
  },
  {
   "cell_type": "code",
   "execution_count": 5,
   "id": "8450589c",
   "metadata": {},
   "outputs": [
    {
     "data": {
      "text/plain": [
       "4"
      ]
     },
     "execution_count": 5,
     "metadata": {},
     "output_type": "execute_result"
    }
   ],
   "source": [
    "x1 - x2 # длина отрезка"
   ]
  },
  {
   "cell_type": "code",
   "execution_count": 6,
   "id": "db130b82",
   "metadata": {},
   "outputs": [
    {
     "data": {
      "text/plain": [
       "0.2"
      ]
     },
     "execution_count": 6,
     "metadata": {},
     "output_type": "execute_result"
    }
   ],
   "source": [
    "pC = 4 / 20  # длина подходящего под условия отрезка в числителе, общая длина - в знаменателе\n",
    "pC"
   ]
  },
  {
   "cell_type": "markdown",
   "id": "d8d26054",
   "metadata": {},
   "source": [
    "#### Задание 5\n",
    "Телефонный номер состоит из 7 цифр. Какова вероятность, \n",
    "что это номер 8882227?"
   ]
  },
  {
   "cell_type": "code",
   "execution_count": 7,
   "id": "ca175a86",
   "metadata": {},
   "outputs": [
    {
     "data": {
      "text/plain": [
       "1e-07"
      ]
     },
     "execution_count": 7,
     "metadata": {},
     "output_type": "execute_result"
    }
   ],
   "source": [
    "1 / (10 ** 7)"
   ]
  },
  {
   "cell_type": "markdown",
   "id": "45675c54",
   "metadata": {},
   "source": [
    "#### Задание 6\n",
    "Набирая номер телефона, абонент забыл 2 последние цифры, и, помня только то, что эти цифры различны и среди них нет нуля, стал набирать их наудачу. Сколько вариантов ему надо перебрать, чтобы наверняка найти нужный номер? Какова вероятность того, что он угадает номер с первого раза?"
   ]
  },
  {
   "cell_type": "code",
   "execution_count": 8,
   "id": "8e1dd007",
   "metadata": {},
   "outputs": [
    {
     "name": "stdout",
     "output_type": "stream",
     "text": [
      "Вариантов надо перебрать - 72\n",
      "Вероятность угадать с первого раза = 0.013888888888888888\n"
     ]
    }
   ],
   "source": [
    "n1 = 9  # нет нуля - значит, первая цифра будет от 1 до 9\n",
    "n2 = 8  # у второй цифры нет нуля и она отлична от первой\n",
    "\n",
    "tries = n1 * n2\n",
    "\n",
    "guess = 1 / tries # вероятность угадать с первого раза = 1/72\n",
    "print(f'Вариантов надо перебрать - {tries}\\nВероятность угадать с первого раза = {guess}')"
   ]
  },
  {
   "cell_type": "markdown",
   "id": "25c01e56",
   "metadata": {},
   "source": [
    "#### Задание 7** (необязательное) \n",
    "Чёрный куб покрасили снаружи белой краской, затем разрезали на 27 одинаковых маленьких кубиков и как попало сложили из них большой куб. С какой вероятностью  все грани этого куба будут белыми?"
   ]
  },
  {
   "cell_type": "markdown",
   "id": "3a716ad8",
   "metadata": {},
   "source": [
    "У каждого кубика по 6 граней.\n",
    "Из 27 кубиков получается:\n",
    "\n",
    "- 8 угловых кубиков, у которых покрасили 3 из 6 сторон;\n",
    "- 12 кубиков между угловыми кубиками, у которых покрасили по 2 из 6 сторон;\n",
    "- 6 кубиков в центре каждой грани с 1 покрашенной стороной из 6;\n",
    "- 1 кубик в самом центре большого куба, которые не покрасили вообще."
   ]
  },
  {
   "cell_type": "code",
   "execution_count": null,
   "id": "5c8601b4",
   "metadata": {},
   "outputs": [],
   "source": []
  }
 ],
 "metadata": {
  "kernelspec": {
   "display_name": "Python 3",
   "language": "python",
   "name": "python3"
  },
  "language_info": {
   "codemirror_mode": {
    "name": "ipython",
    "version": 3
   },
   "file_extension": ".py",
   "mimetype": "text/x-python",
   "name": "python",
   "nbconvert_exporter": "python",
   "pygments_lexer": "ipython3",
   "version": "3.9.0"
  }
 },
 "nbformat": 4,
 "nbformat_minor": 5
}
